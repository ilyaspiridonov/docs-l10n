{
  "cells": [
    {
      "cell_type": "markdown",
      "metadata": {
        "id": "wJcYs_ERTnnI"
      },
      "source": [
        "##### Copyright 2021 The TensorFlow Authors."
      ]
    },
    {
      "cell_type": "code",
      "execution_count": null,
      "metadata": {
        "cellView": "form",
        "id": "HMUDt0CiUJk9"
      },
      "outputs": [],
      "source": [
        "#@title Licensed under the Apache License, Version 2.0 (the \"License\");\n",
        "# you may not use this file except in compliance with the License.\n",
        "# You may obtain a copy of the License at\n",
        "#\n",
        "# https://www.apache.org/licenses/LICENSE-2.0\n",
        "#\n",
        "# Unless required by applicable law or agreed to in writing, software\n",
        "# distributed under the License is distributed on an \"AS IS\" BASIS,\n",
        "# WITHOUT WARRANTIES OR CONDITIONS OF ANY KIND, either express or implied.\n",
        "# See the License for the specific language governing permissions and\n",
        "# limitations under the License."
      ]
    },
    {
      "cell_type": "markdown",
      "metadata": {
        "id": "77z2OchJTk0l"
      },
      "source": [
        "# Como migrar callbacks SessionRunHook para Keras\n",
        "\n",
        "<table class=\"tfo-notebook-buttons\" align=\"left\">\n",
        "  <td>     <a target=\"_blank\" href=\"https://www.tensorflow.org/guide/migrate/sessionrunhook_callback\"><img src=\"https://www.tensorflow.org/images/tf_logo_32px.png\">Ver em TensorFlow.org</a>\n",
        "</td>\n",
        "  <td>     <a target=\"_blank\" href=\"https://colab.research.google.com/github/tensorflow/docs-l10n/blob/master/site/pt-br/guide/migrate/sessionrunhook_callback.ipynb\"><img src=\"https://www.tensorflow.org/images/colab_logo_32px.png\">Executar no Google Colab</a>\n",
        "</td>\n",
        "  <td>     <a target=\"_blank\" href=\"https://github.com/tensorflow/docs-l10n/blob/master/site/pt-br/guide/migrate/sessionrunhook_callback.ipynb\"> <img src=\"https://www.tensorflow.org/images/GitHub-Mark-32px.png\"> Ver fonte no GitHub</a>\n",
        "</td>\n",
        "  <td>     <a href=\"https://storage.googleapis.com/tensorflow_docs/docs-l10n/site/pt-br/guide/migrate/sessionrunhook_callback.ipynb\"><img src=\"https://www.tensorflow.org/images/download_logo_32px.png\">Baixar notebook</a>\n",
        "</td>\n",
        "</table>\n"
      ]
    },
    {
      "cell_type": "markdown",
      "metadata": {
        "id": "KZHPY55aFyXT"
      },
      "source": [
        "No TensorFlow 1, para personalizar o comportamento do treinamento, você usa o `tf.estimator.SessionRunHook` com `tf.estimator.Estimator`. Este guia demonstra como migrar do `SessionRunHook` para callbacks personalizados do TensorFlow 2 com a API `tf.keras.callbacks.Callback`, que funciona com o Keras `Model.fit` para treinamento (assim como `Model.evaluate` e `Model.predict`). Você aprenderá como fazer isso implementando um `SessionRunHook` e uma tarefa `Callback` que mede exemplos por segundo durante o treinamento.\n",
        "\n",
        "Exemplos de callbacks são o salvamento de checkpoints (`tf.keras.callbacks.ModelCheckpoint`) e a criação de resumos do [TensorBoard](%60tf.keras.callbacks.TensorBoard%60). Os [callbacks](https://www.tensorflow.org/guide/keras/custom_callback) do Keras são objetos que são chamados em diferentes pontos durante o treinamento/avaliação/previsão nas APIs integradas do Keras `Model.fit`/`Model.evaluate`/`Model.predict`. Você pode aprender mais sobre callbacks na documentação da API `tf.keras.callbacks.Callback`, bem como nos guias [Escrevendo seus próprios retornos de chamada](https://www.tensorflow.org/guide/keras/custom_callback.ipynb/) e [Treinamento e avaliação com os métodos integrados](https://www.tensorflow.org/guide/keras/train_and_evaluate) (na seção *Usando callbacks*)."
      ]
    },
    {
      "cell_type": "markdown",
      "metadata": {
        "id": "29da56bf859d"
      },
      "source": [
        "## Configuração\n",
        "\n",
        "Comece com os imports e um dataset simples para fins de demonstração:"
      ]
    },
    {
      "cell_type": "code",
      "execution_count": null,
      "metadata": {
        "id": "296d8b0DoKpV"
      },
      "outputs": [],
      "source": [
        "import tensorflow as tf\n",
        "import tensorflow.compat.v1 as tf1\n",
        "\n",
        "import time\n",
        "from datetime import datetime\n",
        "from absl import flags"
      ]
    },
    {
      "cell_type": "code",
      "execution_count": null,
      "metadata": {
        "id": "xVGYtUXyXNuE"
      },
      "outputs": [],
      "source": [
        "features = [[1., 1.5], [2., 2.5], [3., 3.5]]\n",
        "labels = [[0.3], [0.5], [0.7]]\n",
        "eval_features = [[4., 4.5], [5., 5.5], [6., 6.5]]\n",
        "eval_labels = [[0.8], [0.9], [1.]]"
      ]
    },
    {
      "cell_type": "markdown",
      "metadata": {
        "id": "ON4zQifT0Vec"
      },
      "source": [
        "## TensorFlow 1: crie um SessionRunHook personalizado com as APIs tf.estimator\n",
        "\n",
        "Os exemplos do TensorFlow 1 a seguir mostram como configurar um `SessionRunHook` personalizado que mede exemplos por segundo durante o treinamento. Após criar o hook (`LoggerHook`), passe-o para o parâmetro `hooks` de `tf.estimator.Estimator.train`."
      ]
    },
    {
      "cell_type": "code",
      "execution_count": null,
      "metadata": {
        "id": "S-myEclbXUL7"
      },
      "outputs": [],
      "source": [
        "def _input_fn():\n",
        "  return tf1.data.Dataset.from_tensor_slices(\n",
        "      (features, labels)).batch(1).repeat(100)\n",
        "\n",
        "def _model_fn(features, labels, mode):\n",
        "  logits = tf1.layers.Dense(1)(features)\n",
        "  loss = tf1.losses.mean_squared_error(labels=labels, predictions=logits)\n",
        "  optimizer = tf1.train.AdagradOptimizer(0.05)\n",
        "  train_op = optimizer.minimize(loss, global_step=tf1.train.get_global_step())\n",
        "  return tf1.estimator.EstimatorSpec(mode, loss=loss, train_op=train_op)"
      ]
    },
    {
      "cell_type": "code",
      "execution_count": null,
      "metadata": {
        "id": "Xd9sPTkO0ZTD"
      },
      "outputs": [],
      "source": [
        "class LoggerHook(tf1.train.SessionRunHook):\n",
        "  \"\"\"Logs loss and runtime.\"\"\"\n",
        "\n",
        "  def begin(self):\n",
        "    self._step = -1\n",
        "    self._start_time = time.time()\n",
        "    self.log_frequency = 10\n",
        "\n",
        "  def before_run(self, run_context):\n",
        "    self._step += 1\n",
        "\n",
        "  def after_run(self, run_context, run_values):\n",
        "    if self._step % self.log_frequency == 0:\n",
        "      current_time = time.time()\n",
        "      duration = current_time - self._start_time\n",
        "      self._start_time = current_time\n",
        "      examples_per_sec = self.log_frequency / duration\n",
        "      print('Time:', datetime.now(), ', Step #:', self._step,\n",
        "            ', Examples per second:', examples_per_sec)\n",
        "\n",
        "estimator = tf1.estimator.Estimator(model_fn=_model_fn)\n",
        "\n",
        "# Begin training.\n",
        "estimator.train(_input_fn, hooks=[LoggerHook()])"
      ]
    },
    {
      "cell_type": "markdown",
      "metadata": {
        "id": "3uZCDMrM2CEg"
      },
      "source": [
        "## TensorFlow 2: crie um callback Keras personalizado para Model.fit\n",
        "\n",
        "No TensorFlow 2, quando você usa o Keras `Model.fit` integrado (ou `Model.evaluate`) para treinamento/avaliação, poderá configurar um `tf.keras.callbacks.Callback` personalizado, que você passa para o parâmetro `callbacks` de `Model.fit` (ou `Model.evaluate`). (Saiba mais no guia [Como escrever seus próprios callbacks](../..guide/keras/custom_callback.ipynb).)\n",
        "\n",
        "No exemplo abaixo, você escreverá um `tf.keras.callbacks.Callback` personalizado que registra várias métricas — ele medirá exemplos por segundo, que devem ser comparáveis ​​às métricas do exemplo anterior usando `SessionRunHook`."
      ]
    },
    {
      "cell_type": "code",
      "execution_count": null,
      "metadata": {
        "id": "UbMPoiB92KRG"
      },
      "outputs": [],
      "source": [
        "class CustomCallback(tf.keras.callbacks.Callback):\n",
        "\n",
        "    def on_train_begin(self, logs = None):\n",
        "      self._step = -1\n",
        "      self._start_time = time.time()\n",
        "      self.log_frequency = 10\n",
        "\n",
        "    def on_train_batch_begin(self, batch, logs = None):\n",
        "      self._step += 1\n",
        "\n",
        "    def on_train_batch_end(self, batch, logs = None):\n",
        "      if self._step % self.log_frequency == 0:\n",
        "        current_time = time.time()\n",
        "        duration = current_time - self._start_time\n",
        "        self._start_time = current_time\n",
        "        examples_per_sec = self.log_frequency / duration\n",
        "        print('Time:', datetime.now(), ', Step #:', self._step,\n",
        "              ', Examples per second:', examples_per_sec)\n",
        "\n",
        "callback = CustomCallback()\n",
        "\n",
        "dataset = tf.data.Dataset.from_tensor_slices(\n",
        "    (features, labels)).batch(1).repeat(100)\n",
        "\n",
        "model = tf.keras.models.Sequential([tf.keras.layers.Dense(1)])\n",
        "optimizer = tf.keras.optimizers.Adagrad(learning_rate=0.05)\n",
        "\n",
        "model.compile(optimizer, \"mse\")\n",
        "\n",
        "# Begin training.\n",
        "result = model.fit(dataset, callbacks=[callback], verbose = 0)\n",
        "# Provide the results of training metrics.\n",
        "result.history"
      ]
    },
    {
      "cell_type": "markdown",
      "metadata": {
        "id": "EFqFi21Ftskq"
      },
      "source": [
        "## Próximos passos\n",
        "\n",
        "Saiba mais sobre callbacks em:\n",
        "\n",
        "- Documentação da API: `tf.keras.callbacks.Callback`\n",
        "- Guia: [Escrevendo seus próprios callbacks](../..guide/keras/custom_callback.ipynb/)\n",
        "- Guia: [Treinamento e avaliação com os métodos integrados](https://www.tensorflow.org/guide/keras/train_and_evaluate) (na seção *Usando callbacks* )\n",
        "\n",
        "Você talvez também ache úteis os seguintes recursos relacionados à migração:\n",
        "\n",
        "- O [Guia de migração de paradas antecipadas](early_stopping.ipynb) : `tf.keras.callbacks.EarlyStopping` é um callback integrado para paradas antecipadas (early stopping).\n",
        "- O [Guia de migração do TensorBoard](tensorboard.ipynb): o TensorBoard permite rastrear e exibir métricas\n",
        "- O [Guia de migração LoggingTensorHook e StopAtStepHook para callbacks Keras](logging_stop_hook.ipynb)"
      ]
    }
  ],
  "metadata": {
    "colab": {
      "collapsed_sections": [],
      "name": "sessionrunhook_callback.ipynb",
      "toc_visible": true
    },
    "kernelspec": {
      "display_name": "Python 3",
      "name": "python3"
    }
  },
  "nbformat": 4,
  "nbformat_minor": 0
}
