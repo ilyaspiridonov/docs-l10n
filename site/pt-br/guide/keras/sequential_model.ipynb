{
  "cells": [
    {
      "cell_type": "markdown",
      "metadata": {
        "id": "b518b04cbfe0"
      },
      "source": [
        "##### Copyright 2020 The TensorFlow Authors."
      ]
    },
    {
      "cell_type": "code",
      "execution_count": null,
      "metadata": {
        "cellView": "form",
        "id": "906e07f6e562"
      },
      "outputs": [],
      "source": [
        "#@title Licensed under the Apache License, Version 2.0 (the \"License\");\n",
        "# you may not use this file except in compliance with the License.\n",
        "# You may obtain a copy of the License at\n",
        "#\n",
        "# https://www.apache.org/licenses/LICENSE-2.0\n",
        "#\n",
        "# Unless required by applicable law or agreed to in writing, software\n",
        "# distributed under the License is distributed on an \"AS IS\" BASIS,\n",
        "# WITHOUT WARRANTIES OR CONDITIONS OF ANY KIND, either express or implied.\n",
        "# See the License for the specific language governing permissions and\n",
        "# limitations under the License."
      ]
    },
    {
      "cell_type": "markdown",
      "metadata": {
        "id": "3e19705694d6"
      },
      "source": [
        "# O modelo Sequencial"
      ]
    },
    {
      "cell_type": "markdown",
      "metadata": {
        "id": "defbb10e8ae3"
      },
      "source": [
        "<table class=\"tfo-notebook-buttons\" align=\"left\">\n",
        "  <td>     <a target=\"_blank\" href=\"https://www.tensorflow.org/guide/keras/sequential_model\"><img src=\"https://www.tensorflow.org/images/tf_logo_32px.png\">Ver em TensorFlow.org</a>\n",
        "</td>\n",
        "  <td>     <a target=\"_blank\" href=\"https://colab.research.google.com/github/tensorflow/docs-l10n/blob/master/site/pt-br/guide/keras/sequential_model.ipynb\"><img src=\"https://www.tensorflow.org/images/colab_logo_32px.png\">Executar no Google Colab</a>\n",
        "</td>\n",
        "  <td>     <a target=\"_blank\" href=\"https://github.com/tensorflow/docs-l10n/blob/master/site/pt-br/guide/keras/sequential_model.ipynb\"><img src=\"https://www.tensorflow.org/images/GitHub-Mark-32px.png\">Ver fonte no GitHub</a>\n",
        "</td>\n",
        "  <td>     <a href=\"https://storage.googleapis.com/tensorflow_docs/docs-l10n/site/pt-br/guide/keras/sequential_model.ipynb\"><img src=\"https://www.tensorflow.org/images/download_logo_32px.png\">Baixar notebook</a>\n",
        "</td>\n",
        "</table>"
      ]
    },
    {
      "cell_type": "markdown",
      "metadata": {
        "id": "8d4ac441b1fc"
      },
      "source": [
        "## Configuração"
      ]
    },
    {
      "cell_type": "code",
      "execution_count": null,
      "metadata": {
        "id": "0472bf67b2bf"
      },
      "outputs": [],
      "source": [
        "import tensorflow as tf\n",
        "from tensorflow import keras\n",
        "from tensorflow.keras import layers"
      ]
    },
    {
      "cell_type": "markdown",
      "metadata": {
        "id": "80f7713c6b92"
      },
      "source": [
        "## Quando usar um modelo sequencial\n",
        "\n",
        "Um modelo `Sequential` é apropriado para **uma pilha simples de camadas** em que cada camada tem **exatamente um tensor de entrada e um tensor de saída**.\n",
        "\n",
        "Esquematicamente, o seguinte modelo `Sequential`:"
      ]
    },
    {
      "cell_type": "code",
      "execution_count": null,
      "metadata": {
        "id": "f536515be229"
      },
      "outputs": [],
      "source": [
        "# Define Sequential model with 3 layers\n",
        "model = keras.Sequential(\n",
        "    [\n",
        "        layers.Dense(2, activation=\"relu\", name=\"layer1\"),\n",
        "        layers.Dense(3, activation=\"relu\", name=\"layer2\"),\n",
        "        layers.Dense(4, name=\"layer3\"),\n",
        "    ]\n",
        ")\n",
        "# Call model on a test input\n",
        "x = tf.ones((3, 3))\n",
        "y = model(x)"
      ]
    },
    {
      "cell_type": "markdown",
      "metadata": {
        "id": "7d81502d9753"
      },
      "source": [
        "é equivalente a esta função:"
      ]
    },
    {
      "cell_type": "code",
      "execution_count": null,
      "metadata": {
        "id": "7059a8890f72"
      },
      "outputs": [],
      "source": [
        "# Create 3 layers\n",
        "layer1 = layers.Dense(2, activation=\"relu\", name=\"layer1\")\n",
        "layer2 = layers.Dense(3, activation=\"relu\", name=\"layer2\")\n",
        "layer3 = layers.Dense(4, name=\"layer3\")\n",
        "\n",
        "# Call layers on a test input\n",
        "x = tf.ones((3, 3))\n",
        "y = layer3(layer2(layer1(x)))"
      ]
    },
    {
      "cell_type": "markdown",
      "metadata": {
        "id": "cdf6d2932c31"
      },
      "source": [
        "Um modelo sequencial **não é apropriado** quando:\n",
        "\n",
        "- Seu modelo tem múltiplas entradas ou saídas\n",
        "- Qualquer uma de suas camadas tem múltiplas entradas ou saídas\n",
        "- Você precisar fazer compartilhamento de camadas\n",
        "- Você quiser uma topologia não linear (por exemplo, uma conexão residual, um modelo multi-branch)"
      ]
    },
    {
      "cell_type": "markdown",
      "metadata": {
        "id": "c5706d9f8eb8"
      },
      "source": [
        "## Criando um modelo sequencial\n",
        "\n",
        "Você pode criar um modelo sequencial passando uma lista de camadas para o construtor Sequential:"
      ]
    },
    {
      "cell_type": "code",
      "execution_count": null,
      "metadata": {
        "id": "8b3eee00f80d"
      },
      "outputs": [],
      "source": [
        "model = keras.Sequential(\n",
        "    [\n",
        "        layers.Dense(2, activation=\"relu\"),\n",
        "        layers.Dense(3, activation=\"relu\"),\n",
        "        layers.Dense(4),\n",
        "    ]\n",
        ")"
      ]
    },
    {
      "cell_type": "markdown",
      "metadata": {
        "id": "1939a7a4a66c"
      },
      "source": [
        "Suas camadas são acessíveis através do atributo `layers`:"
      ]
    },
    {
      "cell_type": "code",
      "execution_count": null,
      "metadata": {
        "id": "49c0448b6da2"
      },
      "outputs": [],
      "source": [
        "model.layers"
      ]
    },
    {
      "cell_type": "markdown",
      "metadata": {
        "id": "b4c7957e9913"
      },
      "source": [
        "Você também pode criar um modelo sequencial de forma incremental através do método `add()`:"
      ]
    },
    {
      "cell_type": "code",
      "execution_count": null,
      "metadata": {
        "id": "d54fde401054"
      },
      "outputs": [],
      "source": [
        "model = keras.Sequential()\n",
        "model.add(layers.Dense(2, activation=\"relu\"))\n",
        "model.add(layers.Dense(3, activation=\"relu\"))\n",
        "model.add(layers.Dense(4))"
      ]
    },
    {
      "cell_type": "markdown",
      "metadata": {
        "id": "d16278f5a1dc"
      },
      "source": [
        "Observe que há também um método `pop()` correspondente para remover camadas: um modelo sequencial se comporta de maneira muito semelhante a uma lista de camadas."
      ]
    },
    {
      "cell_type": "code",
      "execution_count": null,
      "metadata": {
        "id": "e89f35b73979"
      },
      "outputs": [],
      "source": [
        "model.pop()\n",
        "print(len(model.layers))  # 2"
      ]
    },
    {
      "cell_type": "markdown",
      "metadata": {
        "id": "99cb1c9a7c7a"
      },
      "source": [
        "Observe também que o construtor Sequential aceita um argumento `name`, assim como qualquer camada ou modelo em Keras. Isto é útil para anotar grafos do TensorBoard com nomes semanticamente significativos."
      ]
    },
    {
      "cell_type": "code",
      "execution_count": null,
      "metadata": {
        "id": "068c2f82e7cb"
      },
      "outputs": [],
      "source": [
        "model = keras.Sequential(name=\"my_sequential\")\n",
        "model.add(layers.Dense(2, activation=\"relu\", name=\"layer1\"))\n",
        "model.add(layers.Dense(3, activation=\"relu\", name=\"layer2\"))\n",
        "model.add(layers.Dense(4, name=\"layer3\"))"
      ]
    },
    {
      "cell_type": "markdown",
      "metadata": {
        "id": "a6247ff17d3a"
      },
      "source": [
        "## Especificando o formato de entrada com antecedência\n",
        "\n",
        "Geralmente, todas as camadas em Keras precisam conhecer o formato de suas entradas para poderem criar seus pesos. Então, quando você cria uma camada como esta, inicialmente ela não tem pesos:"
      ]
    },
    {
      "cell_type": "code",
      "execution_count": null,
      "metadata": {
        "id": "373ecbb5c6bd"
      },
      "outputs": [],
      "source": [
        "layer = layers.Dense(3)\n",
        "layer.weights  # Empty"
      ]
    },
    {
      "cell_type": "markdown",
      "metadata": {
        "id": "da150335961e"
      },
      "source": [
        "Ela cria seus pesos na primeira vez que é chamada numa entrada, pois a forma dos pesos depende do formato das entradas:"
      ]
    },
    {
      "cell_type": "code",
      "execution_count": null,
      "metadata": {
        "id": "bf28829ce193"
      },
      "outputs": [],
      "source": [
        "# Call layer on a test input\n",
        "x = tf.ones((1, 4))\n",
        "y = layer(x)\n",
        "layer.weights  # Now it has weights, of shape (4, 3) and (3,)"
      ]
    },
    {
      "cell_type": "markdown",
      "metadata": {
        "id": "e50f21c5f247"
      },
      "source": [
        "Naturalmente, isto também vale para os modelos sequenciais. Quando você instancia um modelo sequencial sem um formato de entrada, ele não é \"construído\": ele não tem pesos (e chamar `model.weights` resulta num erro que informa exatamente isso). Os pesos são criados quando o modelo vê pela primeira vez alguns dados de entrada:"
      ]
    },
    {
      "cell_type": "code",
      "execution_count": null,
      "metadata": {
        "id": "04479960526c"
      },
      "outputs": [],
      "source": [
        "model = keras.Sequential(\n",
        "    [\n",
        "        layers.Dense(2, activation=\"relu\"),\n",
        "        layers.Dense(3, activation=\"relu\"),\n",
        "        layers.Dense(4),\n",
        "    ]\n",
        ")  # No weights at this stage!\n",
        "\n",
        "# At this point, you can't do this:\n",
        "# model.weights\n",
        "\n",
        "# You also can't do this:\n",
        "# model.summary()\n",
        "\n",
        "# Call the model on a test input\n",
        "x = tf.ones((1, 4))\n",
        "y = model(x)\n",
        "print(\"Number of weights after calling the model:\", len(model.weights))  # 6"
      ]
    },
    {
      "cell_type": "markdown",
      "metadata": {
        "id": "2837e3d2c798"
      },
      "source": [
        "Depois que um modelo é \"construído\", você pode chamar seu método `summary()` para exibir seu conteúdo:"
      ]
    },
    {
      "cell_type": "code",
      "execution_count": null,
      "metadata": {
        "id": "1368bd27f679"
      },
      "outputs": [],
      "source": [
        "model.summary()"
      ]
    },
    {
      "cell_type": "markdown",
      "metadata": {
        "id": "08cf1da27edb"
      },
      "source": [
        "No entanto, pode ser muito útil ao construir um modelo sequencial de forma incremental, poder mostrar o resumo do modelo até o momento, incluindo o formato de saída atual. Nesse caso, você deve iniciar seu modelo passando um objeto `Input` para seu modelo, para que ele conheça seu formato de entrada desde o início:"
      ]
    },
    {
      "cell_type": "code",
      "execution_count": null,
      "metadata": {
        "id": "e3d2024cfeeb"
      },
      "outputs": [],
      "source": [
        "model = keras.Sequential()\n",
        "model.add(keras.Input(shape=(4,)))\n",
        "model.add(layers.Dense(2, activation=\"relu\"))\n",
        "\n",
        "model.summary()"
      ]
    },
    {
      "cell_type": "markdown",
      "metadata": {
        "id": "3d965e3761a8"
      },
      "source": [
        "Observe que o objeto `Input` não é exibido como parte de `model.layers`, já que não é uma camada:"
      ]
    },
    {
      "cell_type": "code",
      "execution_count": null,
      "metadata": {
        "id": "8e3b0d58e7ed"
      },
      "outputs": [],
      "source": [
        "model.layers"
      ]
    },
    {
      "cell_type": "markdown",
      "metadata": {
        "id": "8a057b1baf72"
      },
      "source": [
        "Uma alternativa simples é simplesmente passar um argumento `input_shape` para sua primeira camada:"
      ]
    },
    {
      "cell_type": "code",
      "execution_count": null,
      "metadata": {
        "id": "1c6ab83d68ea"
      },
      "outputs": [],
      "source": [
        "model = keras.Sequential()\n",
        "model.add(layers.Dense(2, activation=\"relu\", input_shape=(4,)))\n",
        "\n",
        "model.summary()"
      ]
    },
    {
      "cell_type": "markdown",
      "metadata": {
        "id": "40c14619d283"
      },
      "source": [
        "Modelos construídos com um formato de entrada predefinido como este sempre têm pesos (mesmo antes de ver quaisquer dados) e sempre têm um formato de saída definido.\n",
        "\n",
        "Em geral, é uma prática recomendada sempre especificar antecipadamente o formato de entrada de um modelo sequencial se você souber qual é."
      ]
    },
    {
      "cell_type": "markdown",
      "metadata": {
        "id": "843f6b6505b3"
      },
      "source": [
        "## Um workflow de depuração comum: `add()` + `summary()`\n",
        "\n",
        "Ao construir uma nova arquitetura sequencial, é útil empilhar camadas de forma incremental com `add()` e imprimir resumos de modelos com frequência. Por exemplo, isso permite que você monitore como uma pilha de camadas `Conv2D` e `MaxPooling2D` está diminuindo a resolução (downsampling) dos mapas de características da imagem:"
      ]
    },
    {
      "cell_type": "code",
      "execution_count": null,
      "metadata": {
        "id": "46bfb8f7dc6e"
      },
      "outputs": [],
      "source": [
        "model = keras.Sequential()\n",
        "model.add(keras.Input(shape=(250, 250, 3)))  # 250x250 RGB images\n",
        "model.add(layers.Conv2D(32, 5, strides=2, activation=\"relu\"))\n",
        "model.add(layers.Conv2D(32, 3, activation=\"relu\"))\n",
        "model.add(layers.MaxPooling2D(3))\n",
        "\n",
        "# Can you guess what the current output shape is at this point? Probably not.\n",
        "# Let's just print it:\n",
        "model.summary()\n",
        "\n",
        "# The answer was: (40, 40, 32), so we can keep downsampling...\n",
        "\n",
        "model.add(layers.Conv2D(32, 3, activation=\"relu\"))\n",
        "model.add(layers.Conv2D(32, 3, activation=\"relu\"))\n",
        "model.add(layers.MaxPooling2D(3))\n",
        "model.add(layers.Conv2D(32, 3, activation=\"relu\"))\n",
        "model.add(layers.Conv2D(32, 3, activation=\"relu\"))\n",
        "model.add(layers.MaxPooling2D(2))\n",
        "\n",
        "# And now?\n",
        "model.summary()\n",
        "\n",
        "# Now that we have 4x4 feature maps, time to apply global max pooling.\n",
        "model.add(layers.GlobalMaxPooling2D())\n",
        "\n",
        "# Finally, we add a classification layer.\n",
        "model.add(layers.Dense(10))"
      ]
    },
    {
      "cell_type": "markdown",
      "metadata": {
        "id": "a2d3335a90fa"
      },
      "source": [
        "Muito prático, não é mesmo?\n"
      ]
    },
    {
      "cell_type": "markdown",
      "metadata": {
        "id": "46addede37f3"
      },
      "source": [
        "## O que fazer depois de que você tiver um modelo\n",
        "\n",
        "Assim que a arquitetura do seu modelo estiver pronta, você vai querer:\n",
        "\n",
        "- Treinar seu modelo, avaliá-lo e executar a inferência. Consulte nosso [guia de treinamento e avaliação com os loops integrados](https://www.tensorflow.org/guide/keras/train_and_evaluate/)\n",
        "- Salvar seu modelo no disco e restaurá-lo. Veja nosso [guia para serialização e salvamento](https://www.tensorflow.org/guide/keras/save_and_serialize/).\n",
        "- Acelerar o treinamento do modelo aproveitando várias GPUs. Consulte nosso [guia para treinamento multi-GPU e distribuído](https://keras.io/guides/distributed_training/)."
      ]
    },
    {
      "cell_type": "markdown",
      "metadata": {
        "id": "608f3b03669c"
      },
      "source": [
        "## Extração de características com um modelo sequencial\n",
        "\n",
        "Depois que um modelo sequencial for construído, ele se comporta como um [modelo de API funcional](https://www.tensorflow.org/guide/keras/functional/). Isto significa que cada camada tem um atributo `input` e `output`. Esses atributos podem ser usados ​​para fazer coisas legais, como criar rapidamente um modelo que extrai as saídas de todas as camadas intermediárias em um modelo sequencial:"
      ]
    },
    {
      "cell_type": "code",
      "execution_count": null,
      "metadata": {
        "id": "a5888d753301"
      },
      "outputs": [],
      "source": [
        "initial_model = keras.Sequential(\n",
        "    [\n",
        "        keras.Input(shape=(250, 250, 3)),\n",
        "        layers.Conv2D(32, 5, strides=2, activation=\"relu\"),\n",
        "        layers.Conv2D(32, 3, activation=\"relu\"),\n",
        "        layers.Conv2D(32, 3, activation=\"relu\"),\n",
        "    ]\n",
        ")\n",
        "feature_extractor = keras.Model(\n",
        "    inputs=initial_model.inputs,\n",
        "    outputs=[layer.output for layer in initial_model.layers],\n",
        ")\n",
        "\n",
        "# Call feature extractor on test input.\n",
        "x = tf.ones((1, 250, 250, 3))\n",
        "features = feature_extractor(x)"
      ]
    },
    {
      "cell_type": "markdown",
      "metadata": {
        "id": "4abef35355d3"
      },
      "source": [
        "Aqui está um exemplo semelhante que extrai apenas características (features) de uma camada:"
      ]
    },
    {
      "cell_type": "code",
      "execution_count": null,
      "metadata": {
        "id": "fc404c7ac90e"
      },
      "outputs": [],
      "source": [
        "initial_model = keras.Sequential(\n",
        "    [\n",
        "        keras.Input(shape=(250, 250, 3)),\n",
        "        layers.Conv2D(32, 5, strides=2, activation=\"relu\"),\n",
        "        layers.Conv2D(32, 3, activation=\"relu\", name=\"my_intermediate_layer\"),\n",
        "        layers.Conv2D(32, 3, activation=\"relu\"),\n",
        "    ]\n",
        ")\n",
        "feature_extractor = keras.Model(\n",
        "    inputs=initial_model.inputs,\n",
        "    outputs=initial_model.get_layer(name=\"my_intermediate_layer\").output,\n",
        ")\n",
        "# Call feature extractor on test input.\n",
        "x = tf.ones((1, 250, 250, 3))\n",
        "features = feature_extractor(x)"
      ]
    },
    {
      "cell_type": "markdown",
      "metadata": {
        "id": "4e2fb64f0676"
      },
      "source": [
        "## Aprendizado por transferência com um modelo sequencial\n",
        "\n",
        "O aprendizado por transferência (transfer learning) consiste em congelar as camadas inferiores em um modelo e treinar apenas as camadas superiores. Se você não estiver familiarizado com ele, não deixe de ler nosso [guia sobre aprendizado por transferência](https://www.tensorflow.org/guide/keras/transfer_learning/).\n",
        "\n",
        "Aqui estão dois esquemas comuns de aprendizado por transferência envolvendo modelos sequenciais.\n",
        "\n",
        "Primeiro, digamos que você tenha um modelo sequencial e queira congelar todas as camadas, exceto a última. Nesse caso, você pode simplesmente iterar sobre `model.layers` e definir `layer.trainable = False` em cada camada, exceto na última. Assim:\n",
        "\n",
        "```python\n",
        "model = keras.Sequential([\n",
        "    keras.Input(shape=(784)),\n",
        "    layers.Dense(32, activation='relu'),\n",
        "    layers.Dense(32, activation='relu'),\n",
        "    layers.Dense(32, activation='relu'),\n",
        "    layers.Dense(10),\n",
        "])\n",
        "\n",
        "# Presumably you would want to first load pre-trained weights.\n",
        "model.load_weights(...)\n",
        "\n",
        "# Freeze all layers except the last one.\n",
        "for layer in model.layers[:-1]:\n",
        "  layer.trainable = False\n",
        "\n",
        "# Recompile and train (this will only update the weights of the last layer).\n",
        "model.compile(...)\n",
        "model.fit(...)\n",
        "```\n",
        "\n",
        "Outra estratégia comum é usar um modelo sequencial para empilhar um modelo pré-treinado e algumas camadas de classificação recém-inicializadas. Assim:\n",
        "\n",
        "```python\n",
        "# Load a convolutional base with pre-trained weights\n",
        "base_model = keras.applications.Xception(\n",
        "    weights='imagenet',\n",
        "    include_top=False,\n",
        "    pooling='avg')\n",
        "\n",
        "# Freeze the base model\n",
        "base_model.trainable = False\n",
        "\n",
        "# Use a Sequential model to add a trainable classifier on top\n",
        "model = keras.Sequential([\n",
        "    base_model,\n",
        "    layers.Dense(1000),\n",
        "])\n",
        "\n",
        "# Compile &amp; train\n",
        "model.compile(...)\n",
        "model.fit(...)\n",
        "```\n",
        "\n",
        "Se você usa aprendizado por transferência, provavelmente vai utilizar esses dois padrões com frequência."
      ]
    },
    {
      "cell_type": "markdown",
      "metadata": {
        "id": "fcffc33b61e5"
      },
      "source": [
        "Isso é tudo o que você precisa saber sobre modelos sequenciais!\n",
        "\n",
        "Para saber mais sobre a construção de modelos em Keras, consulte:\n",
        "\n",
        "- [Guia para a API Functional](https://www.tensorflow.org/guide/keras/functional/)\n",
        "- [Guia para criar novas camadas e modelos usando subclasses](https://www.tensorflow.org/guide/keras/custom_layers_and_models/)"
      ]
    }
  ],
  "metadata": {
    "colab": {
      "collapsed_sections": [],
      "name": "sequential_model.ipynb",
      "toc_visible": true
    },
    "kernelspec": {
      "display_name": "Python 3",
      "name": "python3"
    }
  },
  "nbformat": 4,
  "nbformat_minor": 0
}
