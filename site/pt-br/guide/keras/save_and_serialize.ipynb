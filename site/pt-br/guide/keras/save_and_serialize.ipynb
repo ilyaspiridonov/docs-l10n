{
  "cells": [
    {
      "cell_type": "markdown",
      "metadata": {
        "id": "b518b04cbfe0"
      },
      "source": [
        "##### Copyright 2020 The TensorFlow Authors."
      ]
    },
    {
      "cell_type": "code",
      "execution_count": null,
      "metadata": {
        "cellView": "form",
        "id": "906e07f6e562"
      },
      "outputs": [],
      "source": [
        "#@title Licensed under the Apache License, Version 2.0 (the \"License\");\n",
        "# you may not use this file except in compliance with the License.\n",
        "# You may obtain a copy of the License at\n",
        "#\n",
        "# https://www.apache.org/licenses/LICENSE-2.0\n",
        "#\n",
        "# Unless required by applicable law or agreed to in writing, software\n",
        "# distributed under the License is distributed on an \"AS IS\" BASIS,\n",
        "# WITHOUT WARRANTIES OR CONDITIONS OF ANY KIND, either express or implied.\n",
        "# See the License for the specific language governing permissions and\n",
        "# limitations under the License."
      ]
    },
    {
      "cell_type": "markdown",
      "metadata": {
        "id": "394e705afdd5"
      },
      "source": [
        "# Salvamento e carga de modelos Keras"
      ]
    },
    {
      "cell_type": "markdown",
      "metadata": {
        "id": "60de82f6bcea"
      },
      "source": [
        "<table class=\"tfo-notebook-buttons\" align=\"left\">\n",
        "  <td>     <a target=\"_blank\" href=\"https://www.tensorflow.org/guide/keras/save_and_serialize\"><img src=\"https://www.tensorflow.org/images/tf_logo_32px.png\">Ver em TensorFlow.org</a>\n",
        "</td>\n",
        "  <td>     <a target=\"_blank\" href=\"https://colab.research.google.com/github/tensorflow/docs-l10n/blob/master/site/pt-br/guide/keras/save_and_serialize.ipynb\"><img src=\"https://www.tensorflow.org/images/colab_logo_32px.png\">Executar no Google Colab</a>\n",
        "</td>\n",
        "  <td>     <a target=\"_blank\" href=\"https://github.com/tensorflow/docs-l10n/blob/master/site/pt-br/guide/keras/save_and_serialize.ipynb\"><img src=\"https://www.tensorflow.org/images/GitHub-Mark-32px.png\">Ver fonte no GitHub</a>\n",
        "</td>\n",
        "  <td>     <a href=\"https://storage.googleapis.com/tensorflow_docs/docs-l10n/site/pt-br/guide/keras/save_and_serialize.ipynb\"><img src=\"https://www.tensorflow.org/images/download_logo_32px.png\">Baixar notebook</a>\n",
        "</td>\n",
        "</table>"
      ]
    },
    {
      "cell_type": "markdown",
      "metadata": {
        "id": "a6e70d8d6fa8"
      },
      "source": [
        "## Introdução\n",
        "\n",
        "Um modelo Keras consiste em vários componentes:\n",
        "\n",
        "- A arquitetura, ou configuração, que especifica quais camadas o modelo contém e como elas estão conectadas.\n",
        "- Um conjunto de valores de pesos (o \"estado do modelo\").\n",
        "- Um otimizador (definido pela compilação do modelo).\n",
        "- Um conjunto de perdas e métricas (definido compilando o modelo ou chamando `add_loss()` ou `add_metric()`).\n",
        "\n",
        "A API do Keras permite salvar todas essas partes no disco de uma só vez ou salvar seletivamente apenas algumas delas:\n",
        "\n",
        "- Salvando tudo em um único arquivo no formato TensorFlow SavedModel (ou no antigo formato Keras H5). Esta é a prática padrão.\n",
        "- Salvando apenas a arquitetura/configuração, geralmente como um arquivo JSON.\n",
        "- Salvando apenas os valores dos pesos. Isso geralmente é usado ao treinar o modelo.\n",
        "\n",
        "Vamos dar uma olhada em cada uma dessas alternativas. Quando você usaria uma ou outra e como elas funcionam?"
      ]
    },
    {
      "cell_type": "markdown",
      "metadata": {
        "id": "ff15300e41fe"
      },
      "source": [
        "## Como salvar e carregar um modelo\n",
        "\n",
        "Se você tem apenas 10 segundos para ler este guia, aqui está tudo o que você precisa saber.\n",
        "\n",
        "**Salvando um modelo Keras:**\n",
        "\n",
        "```python\n",
        "model = ...  # Get model (Sequential, Functional Model, or Model subclass)\n",
        "model.save('path/to/location')\n",
        "```\n",
        "\n",
        "**Carregando o modelo de volta:**\n",
        "\n",
        "```python\n",
        "from tensorflow import keras\n",
        "model = keras.models.load_model('path/to/location')\n",
        "```\n",
        "\n",
        "Agora, vamos ver os detalhes."
      ]
    },
    {
      "cell_type": "markdown",
      "metadata": {
        "id": "41fbd6a3290a"
      },
      "source": [
        "## Configuração"
      ]
    },
    {
      "cell_type": "code",
      "execution_count": null,
      "metadata": {
        "id": "abff67cc7505"
      },
      "outputs": [],
      "source": [
        "import numpy as np\n",
        "import tensorflow as tf\n",
        "from tensorflow import keras"
      ]
    },
    {
      "cell_type": "markdown",
      "metadata": {
        "id": "438511b14a90"
      },
      "source": [
        "## Salvamento e carregamento do modelo inteiro\n",
        "\n",
        "Você pode salvar um modelo inteiro num único artefato. Ele vai conter:\n",
        "\n",
        "- A arquitetura/configuração do modelo\n",
        "- Os valores de peso do modelo (que foram aprendidos durante o treinamento)\n",
        "- As informações de compilação do modelo (se `compile()` foi chamado)\n",
        "- O otimizador e seu estado, se houver (isso permite que você reinicie o treinamento de onde parou)\n",
        "\n",
        "#### APIs\n",
        "\n",
        "- `model.save()` ou `tf.keras.models.save_model()`\n",
        "- `tf.keras.models.load_model()`\n",
        "\n",
        "Há dois formatos que você pode usar para salvar um modelo inteiro em disco: **o formato TensorFlow SavedModel** e o antigo **formato Keras H5**. O formato recomendado é SavedModel. É o padrão quando você usa `model.save()`.\n",
        "\n",
        "Para mudar para o formato H5 você pode:\n",
        "\n",
        "- Passar `save_format='h5'` para `save()`.\n",
        "- Passar um nome de arquivo que termina em `.h5` ou `.keras` para `save()`."
      ]
    },
    {
      "cell_type": "markdown",
      "metadata": {
        "id": "812f19d9dc7c"
      },
      "source": [
        "### Formato SavedModel\n",
        "\n",
        "SavedModel é o formato de salvamento mais abrangente que salva a arquitetura do modelo, os pesos e os subgráficos do Tensorflow rastreados das funções de chamada. Isto permite que o Keras restaure tanto as camadas internas quanto os objetos personalizados.\n",
        "\n",
        "**Exemplo:**"
      ]
    },
    {
      "cell_type": "code",
      "execution_count": null,
      "metadata": {
        "id": "4d910eb33378"
      },
      "outputs": [],
      "source": [
        "def get_model():\n",
        "    # Create a simple model.\n",
        "    inputs = keras.Input(shape=(32,))\n",
        "    outputs = keras.layers.Dense(1)(inputs)\n",
        "    model = keras.Model(inputs, outputs)\n",
        "    model.compile(optimizer=\"adam\", loss=\"mean_squared_error\")\n",
        "    return model\n",
        "\n",
        "\n",
        "model = get_model()\n",
        "\n",
        "# Train the model.\n",
        "test_input = np.random.random((128, 32))\n",
        "test_target = np.random.random((128, 1))\n",
        "model.fit(test_input, test_target)\n",
        "\n",
        "# Calling `save('my_model')` creates a SavedModel folder `my_model`.\n",
        "model.save(\"my_model\")\n",
        "\n",
        "# It can be used to reconstruct the model identically.\n",
        "reconstructed_model = keras.models.load_model(\"my_model\")\n",
        "\n",
        "# Let's check:\n",
        "np.testing.assert_allclose(\n",
        "    model.predict(test_input), reconstructed_model.predict(test_input)\n",
        ")\n",
        "\n",
        "# The reconstructed model is already compiled and has retained the optimizer\n",
        "# state, so training can resume:\n",
        "reconstructed_model.fit(test_input, test_target)"
      ]
    },
    {
      "cell_type": "markdown",
      "metadata": {
        "id": "3f8e96c8a949"
      },
      "source": [
        "#### O que o SavedModel contém\n",
        "\n",
        "Chamar `model.save('my_model')` cria uma pasta chamada `my_model`, contendo o seguinte:"
      ]
    },
    {
      "cell_type": "code",
      "execution_count": null,
      "metadata": {
        "id": "47be41998ac5"
      },
      "outputs": [],
      "source": [
        "!ls my_model"
      ]
    },
    {
      "cell_type": "markdown",
      "metadata": {
        "id": "ead32a4345d1"
      },
      "source": [
        "A arquitetura do modelo e a configuração de treinamento (incluindo o otimizador, perdas e métricas) são armazenadas em `saved_model.pb`. Os pesos são salvos no diretório `variables/`.\n",
        "\n",
        "Para informações detalhadas sobre o formato SavedModel, consulte o [guia SavedModel (*O formato SavedModel no disco*)](https://www.tensorflow.org/guide/saved_model#the_savedmodel_format_on_disk).\n",
        "\n",
        "#### Como o SavedModel lida com objetos personalizados\n",
        "\n",
        "Ao salvar o modelo e suas camadas, o formato SavedModel armazena o nome da classe, **função de chamada (call)**, perdas e pesos (e a configuração, se implementada). A função de chamada define o grafo de computação do modelo/camada.\n",
        "\n",
        "Na ausência da configuração do modelo/camada, a função de chamada é usada para criar um modelo que existe como o modelo original que pode ser treinado, avaliado e usado para inferência.\n",
        "\n",
        "No entanto, é sempre uma boa prática definir os métodos `get_config` e `from_config` ao escrever um modelo personalizado ou classe de camada. Isto permite que você atualize facilmente a computação mais tarde, se necessário. Consulte a seção sobre [objetos personalizados](#custom-objects) para mais informações.\n",
        "\n",
        "Exemplo:"
      ]
    },
    {
      "cell_type": "code",
      "execution_count": null,
      "metadata": {
        "id": "28bbf9f611d6"
      },
      "outputs": [],
      "source": [
        "class CustomModel(keras.Model):\n",
        "    def __init__(self, hidden_units):\n",
        "        super(CustomModel, self).__init__()\n",
        "        self.hidden_units = hidden_units\n",
        "        self.dense_layers = [keras.layers.Dense(u) for u in hidden_units]\n",
        "\n",
        "    def call(self, inputs):\n",
        "        x = inputs\n",
        "        for layer in self.dense_layers:\n",
        "            x = layer(x)\n",
        "        return x\n",
        "\n",
        "    def get_config(self):\n",
        "        return {\"hidden_units\": self.hidden_units}\n",
        "\n",
        "    @classmethod\n",
        "    def from_config(cls, config):\n",
        "        return cls(**config)\n",
        "\n",
        "\n",
        "model = CustomModel([16, 16, 10])\n",
        "# Build the model by calling it\n",
        "input_arr = tf.random.uniform((1, 5))\n",
        "outputs = model(input_arr)\n",
        "model.save(\"my_model\")\n",
        "\n",
        "# Option 1: Load with the custom_object argument.\n",
        "loaded_1 = keras.models.load_model(\n",
        "    \"my_model\", custom_objects={\"CustomModel\": CustomModel}\n",
        ")\n",
        "\n",
        "# Option 2: Load without the CustomModel class.\n",
        "\n",
        "# Delete the custom-defined model class to ensure that the loader does not have\n",
        "# access to it.\n",
        "del CustomModel\n",
        "\n",
        "loaded_2 = keras.models.load_model(\"my_model\")\n",
        "np.testing.assert_allclose(loaded_1(input_arr), outputs)\n",
        "np.testing.assert_allclose(loaded_2(input_arr), outputs)\n",
        "\n",
        "print(\"Original model:\", model)\n",
        "print(\"Model Loaded with custom objects:\", loaded_1)\n",
        "print(\"Model loaded without the custom object class:\", loaded_2)\n"
      ]
    },
    {
      "cell_type": "markdown",
      "metadata": {
        "id": "ba7b964eb364"
      },
      "source": [
        "O primeiro modelo carregado é carregado usando a configuração e a classe `CustomModel`. O segundo modelo é carregado criando dinamicamente a classe de modelo que age como o modelo original."
      ]
    },
    {
      "cell_type": "markdown",
      "metadata": {
        "id": "516e30bfbe10"
      },
      "source": [
        "#### Configurando o SavedModel\n",
        "\n",
        "*Novidade no TensoFlow 2.4* O argumento `save_traces` foi adicionado ao `model.save`, o que permite alternar o rastreamento da função SavedModel. As funções são salvas para permitir que o Keras recarregue os objetos personalizados sem as definições originais da classe, portanto, quando `save_traces=False`, todos os objetos personalizados devem ter definido métodos `get_config`/`from_config`. Ao carregar, os objetos personalizados devem ser passados ​​para o argumento `custom_objects`. `save_traces=False` reduz o espaço em disco usado pelo SavedModel e economiza tempo."
      ]
    },
    {
      "cell_type": "markdown",
      "metadata": {
        "id": "71d9e6b3d6af"
      },
      "source": [
        "### Formato Keras H5\n",
        "\n",
        "O Keras também suporta o salvamento de um único arquivo HDF5 contendo a arquitetura do modelo, valores de pesos e informações `compile()`. É uma alternativa leve ao SavedModel.\n",
        "\n",
        "**Exemplo:**"
      ]
    },
    {
      "cell_type": "code",
      "execution_count": null,
      "metadata": {
        "id": "1ae0912f6f9b"
      },
      "outputs": [],
      "source": [
        "model = get_model()\n",
        "\n",
        "# Train the model.\n",
        "test_input = np.random.random((128, 32))\n",
        "test_target = np.random.random((128, 1))\n",
        "model.fit(test_input, test_target)\n",
        "\n",
        "# Calling `save('my_model.h5')` creates a h5 file `my_model.h5`.\n",
        "model.save(\"my_h5_model.h5\")\n",
        "\n",
        "# It can be used to reconstruct the model identically.\n",
        "reconstructed_model = keras.models.load_model(\"my_h5_model.h5\")\n",
        "\n",
        "# Let's check:\n",
        "np.testing.assert_allclose(\n",
        "    model.predict(test_input), reconstructed_model.predict(test_input)\n",
        ")\n",
        "\n",
        "# The reconstructed model is already compiled and has retained the optimizer\n",
        "# state, so training can resume:\n",
        "reconstructed_model.fit(test_input, test_target)"
      ]
    },
    {
      "cell_type": "markdown",
      "metadata": {
        "id": "116bd1b1b215"
      },
      "source": [
        "#### Limitações\n",
        "\n",
        "Em comparação com o formato SavedModel, há duas coisas que não são incluídas no arquivo H5:\n",
        "\n",
        "- **Perdas e métricas externas** adicionadas via `model.add_loss()` e `model.add_metric()` não são salvas (ao contrário de SavedModel). Se você tiver essas perdas e métricas em seu modelo e quiser retomar o treinamento, precisará adicionar essas perdas novamente depois de carregar o modelo. Observe que isso não se aplica a perdas/métricas criadas *dentro* das camadas via `self.add_loss()` e `self.add_metric()`. Enquanto a camada for carregada, essas perdas e métricas são mantidas, pois fazem parte do método `call` da camada.\n",
        "- O **grafo de computação de objetos personalizados,**, tais como camadas personalizadas, não está incluído no arquivo salvo. No momento do carregamento, o Keras precisará acessar as classes/funções Python desses objetos para reconstruir o modelo. Veja [Objetos personalizados](#custom-objects).\n"
      ]
    },
    {
      "cell_type": "markdown",
      "metadata": {
        "id": "bf78706009bf"
      },
      "source": [
        "## Salvando a arquitetura\n",
        "\n",
        "A configuração (ou arquitetura) do modelo especifica quais camadas o modelo contém e como essas camadas são conectadas*. Se você tiver a configuração de um modelo, o modelo poderá ser criado com um estado recém-inicializado para os pesos e nenhuma informação de compilação.\n",
        "\n",
        "*Observe que isto se aplica apenas a modelos definidos usando APIs funcionais ou sequenciais, não modelos construídos como subclasses."
      ]
    },
    {
      "cell_type": "markdown",
      "metadata": {
        "id": "58a708dbb5da"
      },
      "source": [
        "### Configuração de um modelo sequencial ou modelo de API funcional\n",
        "\n",
        "Esses tipos de modelos são grafos explícitos de camadas: sua configuração está sempre disponível de forma estruturada.\n",
        "\n",
        "#### APIs\n",
        "\n",
        "- `get_config()` e `from_config()`\n",
        "- `tf.keras.models.model_to_json()` e `tf.keras.models.model_from_json()`"
      ]
    },
    {
      "cell_type": "markdown",
      "metadata": {
        "id": "3d8b20812b50"
      },
      "source": [
        "#### `get_config()` e `from_config()`\n",
        "\n",
        "Chamar `config = model.get_config()` retornará um dict do Python contendo a configuração do modelo. O mesmo modelo pode então ser reconstruído via `Sequential.from_config(config)` (para um modelo `Sequential` ) ou `Model.from_config(config)` (para um modelo da Functional API).\n",
        "\n",
        "O mesmo workflow também funciona para qualquer camada serializável.\n",
        "\n",
        "**Exemplo de camada:**"
      ]
    },
    {
      "cell_type": "code",
      "execution_count": null,
      "metadata": {
        "id": "4f26b94e879a"
      },
      "outputs": [],
      "source": [
        "layer = keras.layers.Dense(3, activation=\"relu\")\n",
        "layer_config = layer.get_config()\n",
        "new_layer = keras.layers.Dense.from_config(layer_config)"
      ]
    },
    {
      "cell_type": "markdown",
      "metadata": {
        "id": "a7e5dd2a439c"
      },
      "source": [
        "**Exemplo de modelo sequencial:**"
      ]
    },
    {
      "cell_type": "code",
      "execution_count": null,
      "metadata": {
        "id": "ae0842be8a2a"
      },
      "outputs": [],
      "source": [
        "model = keras.Sequential([keras.Input((32,)), keras.layers.Dense(1)])\n",
        "config = model.get_config()\n",
        "new_model = keras.Sequential.from_config(config)"
      ]
    },
    {
      "cell_type": "markdown",
      "metadata": {
        "id": "1e97ca5f73d7"
      },
      "source": [
        "**Exemplo de modelo funcional:**"
      ]
    },
    {
      "cell_type": "code",
      "execution_count": null,
      "metadata": {
        "id": "da001f34e412"
      },
      "outputs": [],
      "source": [
        "inputs = keras.Input((32,))\n",
        "outputs = keras.layers.Dense(1)(inputs)\n",
        "model = keras.Model(inputs, outputs)\n",
        "config = model.get_config()\n",
        "new_model = keras.Model.from_config(config)"
      ]
    },
    {
      "cell_type": "markdown",
      "metadata": {
        "id": "d7c08fae3eef"
      },
      "source": [
        "#### `tf.keras.models.model_to_json()` e `tf.keras.models.model_from_json()`\n",
        "\n",
        "Isto é semelhante a `get_config` / `from_config`, exceto que transforma o modelo em uma string JSON, que pode ser carregada sem a classe de modelo original. Também é específico para modelos, não é para camadas.\n",
        "\n",
        "**Exemplo:**"
      ]
    },
    {
      "cell_type": "code",
      "execution_count": null,
      "metadata": {
        "id": "12885447bd35"
      },
      "outputs": [],
      "source": [
        "model = keras.Sequential([keras.Input((32,)), keras.layers.Dense(1)])\n",
        "json_config = model.to_json()\n",
        "new_model = keras.models.model_from_json(json_config)"
      ]
    },
    {
      "cell_type": "markdown",
      "metadata": {
        "id": "edcae4bf461c"
      },
      "source": [
        "### Objetos personalizados\n",
        "\n",
        "**Modelos e camadas**\n",
        "\n",
        "A arquitetura de modelos e camadas implementados como subclasses são definidas nos métodos `__init__` e `call`. Eles são considerados bytecode Python, que não podem ser serializados em uma configuração compatível com JSON: você pode até tentar serializar o bytecode (por exemplo, via `pickle`), mas é completamente inseguro e significa que seu modelo não poderá ser carregado em um sistema diferente.\n",
        "\n",
        "Para salvar/carregar um modelo com camadas definidas de forma personalizada ou um modelo em subclasse, você precisa sobrescrever os métodos `get_config` e, opcionalmente, `from_config`. Além disso, você deve usar registrar o objeto personalizado para que Keras esteja ciente dele.\n",
        "\n",
        "**Funções personalizadas**\n",
        "\n",
        "As funções personalizadas (por exemplo, perda de ativação ou inicialização) não precisam de um método `get_config`. O nome da função é suficiente para o carregamento, desde que seja registrado como um objeto personalizado.\n",
        "\n",
        "**Carregando apenas o grafo do TensorFlow**\n",
        "\n",
        "É possível carregar o grafo TensorFlow gerado pelo Keras. Se você fizer isso, não precisará fornecer nenhum `custom_objects`. Você pode fazer assim:"
      ]
    },
    {
      "cell_type": "code",
      "execution_count": null,
      "metadata": {
        "id": "1651c6825106"
      },
      "outputs": [],
      "source": [
        "model.save(\"my_model\")\n",
        "tensorflow_graph = tf.saved_model.load(\"my_model\")\n",
        "x = np.random.uniform(size=(4, 32)).astype(np.float32)\n",
        "predicted = tensorflow_graph(x).numpy()"
      ]
    },
    {
      "cell_type": "markdown",
      "metadata": {
        "id": "b15faa16734b"
      },
      "source": [
        "Note que este método tem várias desvantagens:\n",
        "\n",
        "- Por motivos de rastreabilidade, você sempre deve ter acesso aos objetos personalizados que foram usados. Você não vai querer colocar em produção um modelo que não pode recriar.\n",
        "- O objeto retornado por `tf.saved_model.load` não é um modelo Keras. Portanto, não é tão fácil de usar. Por exemplo, você não terá acesso a `.predict()` ou `.fit()`\n",
        "\n",
        "Mesmo que seu uso seja desencorajado, este método pode ajudar se você estiver em uma situação difícil, por exemplo, se você perdeu o código de seus objetos personalizados ou tem problemas para carregar o modelo com `tf.keras.models.load_model()`.\n",
        "\n",
        "Você pode descobrir mais na [página sobre `tf.saved_model.load`](https://www.tensorflow.org/api_docs/python/tf/saved_model/load)"
      ]
    },
    {
      "cell_type": "markdown",
      "metadata": {
        "id": "d308bc27a04d"
      },
      "source": [
        "#### Definindo os métodos de configuração\n",
        "\n",
        "Especificações:\n",
        "\n",
        "- `get_config` deve retornar um dicionário serializável JSON para ser compatível com as APIs de arquitetura e de salvamento de modelos do Keras.\n",
        "- `from_config(config)` ( `classmethod`) deve retornar um novo objeto de camada ou modelo criado a partir do arquivo config. A implementação padrão retorna `cls(**config)`.\n",
        "\n",
        "**Exemplo:**"
      ]
    },
    {
      "cell_type": "code",
      "execution_count": null,
      "metadata": {
        "id": "e18c4668dadc"
      },
      "outputs": [],
      "source": [
        "class CustomLayer(keras.layers.Layer):\n",
        "    def __init__(self, a):\n",
        "        self.var = tf.Variable(a, name=\"var_a\")\n",
        "\n",
        "    def call(self, inputs, training=False):\n",
        "        if training:\n",
        "            return inputs * self.var\n",
        "        else:\n",
        "            return inputs\n",
        "\n",
        "    def get_config(self):\n",
        "        return {\"a\": self.var.numpy()}\n",
        "\n",
        "    # There's actually no need to define `from_config` here, since returning\n",
        "    # `cls(**config)` is the default behavior.\n",
        "    @classmethod\n",
        "    def from_config(cls, config):\n",
        "        return cls(**config)\n",
        "\n",
        "\n",
        "layer = CustomLayer(5)\n",
        "layer.var.assign(2)\n",
        "\n",
        "serialized_layer = keras.layers.serialize(layer)\n",
        "new_layer = keras.layers.deserialize(\n",
        "    serialized_layer, custom_objects={\"CustomLayer\": CustomLayer}\n",
        ")"
      ]
    },
    {
      "cell_type": "markdown",
      "metadata": {
        "id": "425a9baa574e"
      },
      "source": [
        "#### Registrando o objeto personalizado\n",
        "\n",
        "O Keras mantém um registro da classe que gerou o config. No exemplo acima, `tf.keras.layers.serialize` gera um formato serializado da camada personalizada:\n",
        "\n",
        "```\n",
        "{'class_name': 'CustomLayer', 'config': {'a': 2}}\n",
        "```\n",
        "\n",
        "O Keras mantém uma lista mestre de todas as classes integradas de camada, modelo, otimizador e métrica, que é usada para encontrar a classe correta onde `from_config` será chamado. Se a classe não puder ser encontrada, será gerado um erro (`Value Error: Unknown layer`). Existem algumas maneiras de registrar classes personalizadas nesta lista:\n",
        "\n",
        "1. Configurando o argumento `custom_objects` na função de carregamento. (veja o exemplo na seção acima \"Definindo os métodos de configuração\")\n",
        "2. `tf.keras.utils.custom_object_scope` ou `tf.keras.utils.CustomObjectScope`\n",
        "3. `tf.keras.utils.register_keras_serializable`"
      ]
    },
    {
      "cell_type": "markdown",
      "metadata": {
        "id": "a047be0ba572"
      },
      "source": [
        "#### Camada personalizada e exemplo de função"
      ]
    },
    {
      "cell_type": "code",
      "execution_count": null,
      "metadata": {
        "id": "04a82ec30b5c"
      },
      "outputs": [],
      "source": [
        "class CustomLayer(keras.layers.Layer):\n",
        "    def __init__(self, units=32, **kwargs):\n",
        "        super(CustomLayer, self).__init__(**kwargs)\n",
        "        self.units = units\n",
        "\n",
        "    def build(self, input_shape):\n",
        "        self.w = self.add_weight(\n",
        "            shape=(input_shape[-1], self.units),\n",
        "            initializer=\"random_normal\",\n",
        "            trainable=True,\n",
        "        )\n",
        "        self.b = self.add_weight(\n",
        "            shape=(self.units,), initializer=\"random_normal\", trainable=True\n",
        "        )\n",
        "\n",
        "    def call(self, inputs):\n",
        "        return tf.matmul(inputs, self.w) + self.b\n",
        "\n",
        "    def get_config(self):\n",
        "        config = super(CustomLayer, self).get_config()\n",
        "        config.update({\"units\": self.units})\n",
        "        return config\n",
        "\n",
        "\n",
        "def custom_activation(x):\n",
        "    return tf.nn.tanh(x) ** 2\n",
        "\n",
        "\n",
        "# Make a model with the CustomLayer and custom_activation\n",
        "inputs = keras.Input((32,))\n",
        "x = CustomLayer(32)(inputs)\n",
        "outputs = keras.layers.Activation(custom_activation)(x)\n",
        "model = keras.Model(inputs, outputs)\n",
        "\n",
        "# Retrieve the config\n",
        "config = model.get_config()\n",
        "\n",
        "# At loading time, register the custom objects with a `custom_object_scope`:\n",
        "custom_objects = {\"CustomLayer\": CustomLayer, \"custom_activation\": custom_activation}\n",
        "with keras.utils.custom_object_scope(custom_objects):\n",
        "    new_model = keras.Model.from_config(config)"
      ]
    },
    {
      "cell_type": "markdown",
      "metadata": {
        "id": "13c7f2a1be03"
      },
      "source": [
        "### Clonagem de modelo na memória\n",
        "\n",
        "Você também pode fazer a clonagem na memória de um modelo via `tf.keras.models.clone_model()`. Isto é equivalente a obter o config e, em seguida, recriar o modelo a partir do seu config (para que não preserve as informações de compilação ou os valores dos pesos da camada).\n",
        "\n",
        "**Exemplo:**"
      ]
    },
    {
      "cell_type": "code",
      "execution_count": null,
      "metadata": {
        "id": "93056ffe6eb4"
      },
      "outputs": [],
      "source": [
        "with keras.utils.custom_object_scope(custom_objects):\n",
        "    new_model = keras.models.clone_model(model)"
      ]
    },
    {
      "cell_type": "markdown",
      "metadata": {
        "id": "05c91a5a23e3"
      },
      "source": [
        "## Salvando e carregando apenas os valores dos pesos do modelo\n",
        "\n",
        "Você pode optar por salvar e carregar apenas os pesos de um modelo. Isto pode ser útil se:\n",
        "\n",
        "- Você só precisar do modelo para inferência: neste caso, você não precisará reiniciar o treinamento, portanto, não precisará das informações de compilação ou do estado do otimizador.\n",
        "- Você está fazendo aprendizado por transferência: neste caso, você estará treinando um novo modelo reutilizando o estado de um modelo anterior, portanto, não precisa das informações de compilação do modelo anterior."
      ]
    },
    {
      "cell_type": "markdown",
      "metadata": {
        "id": "c5229f4014f2"
      },
      "source": [
        "### APIs para transferência de peso na memória\n",
        "\n",
        "Os pesos podem ser copiados entre diferentes objetos usando `get_weights` e `set_weights`:\n",
        "\n",
        "- `tf.keras.layers.Layer.get_weights()`: Retorna uma lista de arrays numpy.\n",
        "- `tf.keras.layers.Layer.set_weights()`: define os pesos do modelo para os valores no argumento `weights`.\n",
        "\n",
        "Exemplos abaixo.\n",
        "\n",
        "***Transferindo pesos de uma camada para outra, na memória***"
      ]
    },
    {
      "cell_type": "code",
      "execution_count": null,
      "metadata": {
        "id": "c9124df19cb2"
      },
      "outputs": [],
      "source": [
        "def create_layer():\n",
        "    layer = keras.layers.Dense(64, activation=\"relu\", name=\"dense_2\")\n",
        "    layer.build((None, 784))\n",
        "    return layer\n",
        "\n",
        "\n",
        "layer_1 = create_layer()\n",
        "layer_2 = create_layer()\n",
        "\n",
        "# Copy weights from layer 1 to layer 2\n",
        "layer_2.set_weights(layer_1.get_weights())"
      ]
    },
    {
      "cell_type": "markdown",
      "metadata": {
        "id": "ff7945516c7d"
      },
      "source": [
        "***Transferindo pesos de um modelo para outro modelo com arquitetura compatível, na memória***"
      ]
    },
    {
      "cell_type": "code",
      "execution_count": null,
      "metadata": {
        "id": "11005d4023d4"
      },
      "outputs": [],
      "source": [
        "# Create a simple functional model\n",
        "inputs = keras.Input(shape=(784,), name=\"digits\")\n",
        "x = keras.layers.Dense(64, activation=\"relu\", name=\"dense_1\")(inputs)\n",
        "x = keras.layers.Dense(64, activation=\"relu\", name=\"dense_2\")(x)\n",
        "outputs = keras.layers.Dense(10, name=\"predictions\")(x)\n",
        "functional_model = keras.Model(inputs=inputs, outputs=outputs, name=\"3_layer_mlp\")\n",
        "\n",
        "# Define a subclassed model with the same architecture\n",
        "class SubclassedModel(keras.Model):\n",
        "    def __init__(self, output_dim, name=None):\n",
        "        super(SubclassedModel, self).__init__(name=name)\n",
        "        self.output_dim = output_dim\n",
        "        self.dense_1 = keras.layers.Dense(64, activation=\"relu\", name=\"dense_1\")\n",
        "        self.dense_2 = keras.layers.Dense(64, activation=\"relu\", name=\"dense_2\")\n",
        "        self.dense_3 = keras.layers.Dense(output_dim, name=\"predictions\")\n",
        "\n",
        "    def call(self, inputs):\n",
        "        x = self.dense_1(inputs)\n",
        "        x = self.dense_2(x)\n",
        "        x = self.dense_3(x)\n",
        "        return x\n",
        "\n",
        "    def get_config(self):\n",
        "        return {\"output_dim\": self.output_dim, \"name\": self.name}\n",
        "\n",
        "\n",
        "subclassed_model = SubclassedModel(10)\n",
        "# Call the subclassed model once to create the weights.\n",
        "subclassed_model(tf.ones((1, 784)))\n",
        "\n",
        "# Copy weights from functional_model to subclassed_model.\n",
        "subclassed_model.set_weights(functional_model.get_weights())\n",
        "\n",
        "assert len(functional_model.weights) == len(subclassed_model.weights)\n",
        "for a, b in zip(functional_model.weights, subclassed_model.weights):\n",
        "    np.testing.assert_allclose(a.numpy(), b.numpy())"
      ]
    },
    {
      "cell_type": "markdown",
      "metadata": {
        "id": "bd4d08bff725"
      },
      "source": [
        "***O caso das camadas stateless***\n",
        "\n",
        "Como as camadas stateless não alteram a ordem ou o número de pesos, os modelos podem ter arquiteturas compatíveis mesmo se houver camadas stateless extras/ausentes."
      ]
    },
    {
      "cell_type": "code",
      "execution_count": null,
      "metadata": {
        "id": "927dc7934d44"
      },
      "outputs": [],
      "source": [
        "inputs = keras.Input(shape=(784,), name=\"digits\")\n",
        "x = keras.layers.Dense(64, activation=\"relu\", name=\"dense_1\")(inputs)\n",
        "x = keras.layers.Dense(64, activation=\"relu\", name=\"dense_2\")(x)\n",
        "outputs = keras.layers.Dense(10, name=\"predictions\")(x)\n",
        "functional_model = keras.Model(inputs=inputs, outputs=outputs, name=\"3_layer_mlp\")\n",
        "\n",
        "inputs = keras.Input(shape=(784,), name=\"digits\")\n",
        "x = keras.layers.Dense(64, activation=\"relu\", name=\"dense_1\")(inputs)\n",
        "x = keras.layers.Dense(64, activation=\"relu\", name=\"dense_2\")(x)\n",
        "\n",
        "# Add a dropout layer, which does not contain any weights.\n",
        "x = keras.layers.Dropout(0.5)(x)\n",
        "outputs = keras.layers.Dense(10, name=\"predictions\")(x)\n",
        "functional_model_with_dropout = keras.Model(\n",
        "    inputs=inputs, outputs=outputs, name=\"3_layer_mlp\"\n",
        ")\n",
        "\n",
        "functional_model_with_dropout.set_weights(functional_model.get_weights())"
      ]
    },
    {
      "cell_type": "markdown",
      "metadata": {
        "id": "199e984872d3"
      },
      "source": [
        "### APIs para salvar pesos em disco e carregá-los de volta\n",
        "\n",
        "Os pesos podem ser salvos em disco chamando `model.save_weights` nos seguintes formatos:\n",
        "\n",
        "- TensorFlow Checkpoint\n",
        "- HDF5\n",
        "\n",
        "O formato padrão para `model.save_weights` é checkpoint do TensorFlow. Há duas maneiras de especificar o formato de salvamento:\n",
        "\n",
        "1. Argumento `save_format`: Defina o valor como `save_format=\"tf\"` ou `save_format=\"h5\"`.\n",
        "2. Argumento `path`: Se o caminho terminar com `.h5` ou `.hdf5`, o formato HDF5 será usado. Outros sufixos resultarão num checkpoint do TensorFlow, a menos que `save_format` esteja definido.\n",
        "\n",
        "Existe também uma possibilidade de recuperar pesos como matrizes numpy na memória. Cada API tem seus prós e contras, detalhados abaixo."
      ]
    },
    {
      "cell_type": "markdown",
      "metadata": {
        "id": "3505dc65d6c1"
      },
      "source": [
        "### Formato TF Checkpoint\n",
        "\n",
        "**Exemplo:**"
      ]
    },
    {
      "cell_type": "code",
      "execution_count": null,
      "metadata": {
        "id": "f92053377391"
      },
      "outputs": [],
      "source": [
        "# Runnable example\n",
        "sequential_model = keras.Sequential(\n",
        "    [\n",
        "        keras.Input(shape=(784,), name=\"digits\"),\n",
        "        keras.layers.Dense(64, activation=\"relu\", name=\"dense_1\"),\n",
        "        keras.layers.Dense(64, activation=\"relu\", name=\"dense_2\"),\n",
        "        keras.layers.Dense(10, name=\"predictions\"),\n",
        "    ]\n",
        ")\n",
        "sequential_model.save_weights(\"ckpt\")\n",
        "load_status = sequential_model.load_weights(\"ckpt\")\n",
        "\n",
        "# `assert_consumed` can be used as validation that all variable values have been\n",
        "# restored from the checkpoint. See `tf.train.Checkpoint.restore` for other\n",
        "# methods in the Status object.\n",
        "load_status.assert_consumed()"
      ]
    },
    {
      "cell_type": "markdown",
      "metadata": {
        "id": "87f1145ac846"
      },
      "source": [
        "#### Detalhes do formato\n",
        "\n",
        "O formato TensorFlow Checkpoint salva e restaura os pesos usando nomes de atributo de objeto. Por exemplo, considere a camada `tf.keras.layers.Dense`. A camada contém dois pesos: `dense.kernel` e `dense.bias`. Quando a camada é salva no formato `tf`, o checkpoint resultante contém as chaves `\"kernel\"` e `\"bias\"` e seus valores de peso correspondentes. Para mais informações, consulte [\"Mecânica de carregamento\" no guia TF Checkpoint](https://www.tensorflow.org/guide/checkpoint#loading_mechanics) .\n",
        "\n",
        "Observe que o nome do atributo/borda do grafo é **o nome usado no objeto pai, não o nome da variável**. Considere o `CustomLayer` no exemplo abaixo. A variável `CustomLayer.var` é salva com `\"var\"` como parte da chave, não `\"var_a\"`."
      ]
    },
    {
      "cell_type": "code",
      "execution_count": null,
      "metadata": {
        "id": "c919189b3697"
      },
      "outputs": [],
      "source": [
        "class CustomLayer(keras.layers.Layer):\n",
        "    def __init__(self, a):\n",
        "        self.var = tf.Variable(a, name=\"var_a\")\n",
        "\n",
        "\n",
        "layer = CustomLayer(5)\n",
        "layer_ckpt = tf.train.Checkpoint(layer=layer).save(\"custom_layer\")\n",
        "\n",
        "ckpt_reader = tf.train.load_checkpoint(layer_ckpt)\n",
        "\n",
        "ckpt_reader.get_variable_to_dtype_map()"
      ]
    },
    {
      "cell_type": "markdown",
      "metadata": {
        "id": "c4e5a7162b13"
      },
      "source": [
        "#### Exemplo de aprendizado por transferência\n",
        "\n",
        "Essencialmente, desde que dois modelos tenham a mesma arquitetura, eles podem compartilhar o mesmo checkpoint.\n",
        "\n",
        "**Exemplo:**"
      ]
    },
    {
      "cell_type": "code",
      "execution_count": null,
      "metadata": {
        "id": "78d08199d27f"
      },
      "outputs": [],
      "source": [
        "inputs = keras.Input(shape=(784,), name=\"digits\")\n",
        "x = keras.layers.Dense(64, activation=\"relu\", name=\"dense_1\")(inputs)\n",
        "x = keras.layers.Dense(64, activation=\"relu\", name=\"dense_2\")(x)\n",
        "outputs = keras.layers.Dense(10, name=\"predictions\")(x)\n",
        "functional_model = keras.Model(inputs=inputs, outputs=outputs, name=\"3_layer_mlp\")\n",
        "\n",
        "# Extract a portion of the functional model defined in the Setup section.\n",
        "# The following lines produce a new model that excludes the final output\n",
        "# layer of the functional model.\n",
        "pretrained = keras.Model(\n",
        "    functional_model.inputs, functional_model.layers[-1].input, name=\"pretrained_model\"\n",
        ")\n",
        "# Randomly assign \"trained\" weights.\n",
        "for w in pretrained.weights:\n",
        "    w.assign(tf.random.normal(w.shape))\n",
        "pretrained.save_weights(\"pretrained_ckpt\")\n",
        "pretrained.summary()\n",
        "\n",
        "# Assume this is a separate program where only 'pretrained_ckpt' exists.\n",
        "# Create a new functional model with a different output dimension.\n",
        "inputs = keras.Input(shape=(784,), name=\"digits\")\n",
        "x = keras.layers.Dense(64, activation=\"relu\", name=\"dense_1\")(inputs)\n",
        "x = keras.layers.Dense(64, activation=\"relu\", name=\"dense_2\")(x)\n",
        "outputs = keras.layers.Dense(5, name=\"predictions\")(x)\n",
        "model = keras.Model(inputs=inputs, outputs=outputs, name=\"new_model\")\n",
        "\n",
        "# Load the weights from pretrained_ckpt into model.\n",
        "model.load_weights(\"pretrained_ckpt\")\n",
        "\n",
        "# Check that all of the pretrained weights have been loaded.\n",
        "for a, b in zip(pretrained.weights, model.weights):\n",
        "    np.testing.assert_allclose(a.numpy(), b.numpy())\n",
        "\n",
        "print(\"\\n\", \"-\" * 50)\n",
        "model.summary()\n",
        "\n",
        "# Example 2: Sequential model\n",
        "# Recreate the pretrained model, and load the saved weights.\n",
        "inputs = keras.Input(shape=(784,), name=\"digits\")\n",
        "x = keras.layers.Dense(64, activation=\"relu\", name=\"dense_1\")(inputs)\n",
        "x = keras.layers.Dense(64, activation=\"relu\", name=\"dense_2\")(x)\n",
        "pretrained_model = keras.Model(inputs=inputs, outputs=x, name=\"pretrained\")\n",
        "\n",
        "# Sequential example:\n",
        "model = keras.Sequential([pretrained_model, keras.layers.Dense(5, name=\"predictions\")])\n",
        "model.summary()\n",
        "\n",
        "pretrained_model.load_weights(\"pretrained_ckpt\")\n",
        "\n",
        "# Warning! Calling `model.load_weights('pretrained_ckpt')` won't throw an error,\n",
        "# but will *not* work as expected. If you inspect the weights, you'll see that\n",
        "# none of the weights will have loaded. `pretrained_model.load_weights()` is the\n",
        "# correct method to call."
      ]
    },
    {
      "cell_type": "markdown",
      "metadata": {
        "id": "7b07ad5fe5b0"
      },
      "source": [
        "Geralmente, é recomendável usar a mesma API para criar modelos. Se você alternar entre as API sequencial e funcional, ou funcional e de subclasse, etc., sempre reconstrua o modelo pré-treinado e carregue os pesos pré-treinados para cada modelo."
      ]
    },
    {
      "cell_type": "markdown",
      "metadata": {
        "id": "2ab83c542e2d"
      },
      "source": [
        "A próxima pergunta é: como os pesos podem ser salvos e carregados em diferentes modelos se as arquiteturas dos modelos são tão diferentes? A solução é usar `tf.train.Checkpoint` para salvar e restaurar as camadas/variáveis ​​exatas.\n",
        "\n",
        "**Exemplo:**"
      ]
    },
    {
      "cell_type": "code",
      "execution_count": null,
      "metadata": {
        "id": "97037b9ea265"
      },
      "outputs": [],
      "source": [
        "# Create a subclassed model that essentially uses functional_model's first\n",
        "# and last layers.\n",
        "# First, save the weights of functional_model's first and last dense layers.\n",
        "first_dense = functional_model.layers[1]\n",
        "last_dense = functional_model.layers[-1]\n",
        "ckpt_path = tf.train.Checkpoint(\n",
        "    dense=first_dense, kernel=last_dense.kernel, bias=last_dense.bias\n",
        ").save(\"ckpt\")\n",
        "\n",
        "# Define the subclassed model.\n",
        "class ContrivedModel(keras.Model):\n",
        "    def __init__(self):\n",
        "        super(ContrivedModel, self).__init__()\n",
        "        self.first_dense = keras.layers.Dense(64)\n",
        "        self.kernel = self.add_variable(\"kernel\", shape=(64, 10))\n",
        "        self.bias = self.add_variable(\"bias\", shape=(10,))\n",
        "\n",
        "    def call(self, inputs):\n",
        "        x = self.first_dense(inputs)\n",
        "        return tf.matmul(x, self.kernel) + self.bias\n",
        "\n",
        "\n",
        "model = ContrivedModel()\n",
        "# Call model on inputs to create the variables of the dense layer.\n",
        "_ = model(tf.ones((1, 784)))\n",
        "\n",
        "# Create a Checkpoint with the same structure as before, and load the weights.\n",
        "tf.train.Checkpoint(\n",
        "    dense=model.first_dense, kernel=model.kernel, bias=model.bias\n",
        ").restore(ckpt_path).assert_consumed()"
      ]
    },
    {
      "cell_type": "markdown",
      "metadata": {
        "id": "18356461e7dd"
      },
      "source": [
        "### Formato HDF5\n",
        "\n",
        "O formato HDF5 contém pesos agrupados por nomes de camada. Os pesos são listas ordenadas concatenando a lista de pesos treináveis ​​com a lista de pesos não treináveis ​​(o mesmo que `layer.weights`). Assim, um modelo pode usar um ponto de verificação hdf5 se tiver as mesmas camadas e status treináveis ​​salvos no checkpoint.\n",
        "\n",
        "**Exemplo:**"
      ]
    },
    {
      "cell_type": "code",
      "execution_count": null,
      "metadata": {
        "id": "43aec1e07913"
      },
      "outputs": [],
      "source": [
        "# Runnable example\n",
        "sequential_model = keras.Sequential(\n",
        "    [\n",
        "        keras.Input(shape=(784,), name=\"digits\"),\n",
        "        keras.layers.Dense(64, activation=\"relu\", name=\"dense_1\"),\n",
        "        keras.layers.Dense(64, activation=\"relu\", name=\"dense_2\"),\n",
        "        keras.layers.Dense(10, name=\"predictions\"),\n",
        "    ]\n",
        ")\n",
        "sequential_model.save_weights(\"weights.h5\")\n",
        "sequential_model.load_weights(\"weights.h5\")"
      ]
    },
    {
      "cell_type": "markdown",
      "metadata": {
        "id": "dc63aef6e0d3"
      },
      "source": [
        "Observe que a alterar `layer.trainable` pode resultar num ordenamento diferente `layer.weights` quando o modelo contiver camadas aninhadas."
      ]
    },
    {
      "cell_type": "code",
      "execution_count": null,
      "metadata": {
        "id": "83b70826944a"
      },
      "outputs": [],
      "source": [
        "class NestedDenseLayer(keras.layers.Layer):\n",
        "    def __init__(self, units, name=None):\n",
        "        super(NestedDenseLayer, self).__init__(name=name)\n",
        "        self.dense_1 = keras.layers.Dense(units, name=\"dense_1\")\n",
        "        self.dense_2 = keras.layers.Dense(units, name=\"dense_2\")\n",
        "\n",
        "    def call(self, inputs):\n",
        "        return self.dense_2(self.dense_1(inputs))\n",
        "\n",
        "\n",
        "nested_model = keras.Sequential([keras.Input((784,)), NestedDenseLayer(10, \"nested\")])\n",
        "variable_names = [v.name for v in nested_model.weights]\n",
        "print(\"variables: {}\".format(variable_names))\n",
        "\n",
        "print(\"\\nChanging trainable status of one of the nested layers...\")\n",
        "nested_model.get_layer(\"nested\").dense_1.trainable = False\n",
        "\n",
        "variable_names_2 = [v.name for v in nested_model.weights]\n",
        "print(\"\\nvariables: {}\".format(variable_names_2))\n",
        "print(\"variable ordering changed:\", variable_names != variable_names_2)"
      ]
    },
    {
      "cell_type": "markdown",
      "metadata": {
        "id": "cc261c1a31ee"
      },
      "source": [
        "#### Exemplo de aprendizado por transferência\n",
        "\n",
        "Ao carregar pesos pré-treinados do HDF5, é recomendável carregar os pesos no modelo originalmente verificado por checkpoint e, em seguida, extrair os pesos/camadas desejados num novo modelo.\n",
        "\n",
        "**Exemplo:**"
      ]
    },
    {
      "cell_type": "code",
      "execution_count": null,
      "metadata": {
        "id": "06cabc31494a"
      },
      "outputs": [],
      "source": [
        "def create_functional_model():\n",
        "    inputs = keras.Input(shape=(784,), name=\"digits\")\n",
        "    x = keras.layers.Dense(64, activation=\"relu\", name=\"dense_1\")(inputs)\n",
        "    x = keras.layers.Dense(64, activation=\"relu\", name=\"dense_2\")(x)\n",
        "    outputs = keras.layers.Dense(10, name=\"predictions\")(x)\n",
        "    return keras.Model(inputs=inputs, outputs=outputs, name=\"3_layer_mlp\")\n",
        "\n",
        "\n",
        "functional_model = create_functional_model()\n",
        "functional_model.save_weights(\"pretrained_weights.h5\")\n",
        "\n",
        "# In a separate program:\n",
        "pretrained_model = create_functional_model()\n",
        "pretrained_model.load_weights(\"pretrained_weights.h5\")\n",
        "\n",
        "# Create a new model by extracting layers from the original model:\n",
        "extracted_layers = pretrained_model.layers[:-1]\n",
        "extracted_layers.append(keras.layers.Dense(5, name=\"dense_3\"))\n",
        "model = keras.Sequential(extracted_layers)\n",
        "model.summary()"
      ]
    }
  ],
  "metadata": {
    "colab": {
      "collapsed_sections": [],
      "name": "save_and_serialize.ipynb",
      "toc_visible": true
    },
    "kernelspec": {
      "display_name": "Python 3",
      "name": "python3"
    }
  },
  "nbformat": 4,
  "nbformat_minor": 0
}
